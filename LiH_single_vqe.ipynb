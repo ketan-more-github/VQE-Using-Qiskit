{
 "cells": [
  {
   "cell_type": "code",
   "execution_count": 1,
   "metadata": {},
   "outputs": [],
   "source": [
    "from qiskit_algorithms import MinimumEigensolverResult\n",
    "from qiskit_algorithms.minimum_eigensolvers import NumPyMinimumEigensolver, VQE\n",
    "from qiskit_nature.second_q.transformers import FreezeCoreTransformer\n",
    "from qiskit_nature.second_q.formats.molecule_info import MoleculeInfo\n",
    "from qiskit_nature.second_q.mappers import ParityMapper\n",
    "from qiskit_nature.second_q.circuit.library import UCCSD, HartreeFock\n",
    "from qiskit_nature.second_q.drivers import PySCFDriver\n",
    "from qiskit.circuit.library import EfficientSU2\n",
    "import numpy as np\n",
    "from qiskit_algorithms.optimizers import SLSQP , SPSA , ADAM\n",
    "from qiskit_aer.primitives import Estimator\n",
    "#qiskit_nature.settings.use_pauli_sum_op = False \n",
    "from qiskit_aer import Aer\n",
    "from pyinstrument import Profiler\n",
    "import threading\n",
    "from qiskit_aer.primitives import Estimator as AerEstimator\n",
    "import math\n",
    "from qiskit.circuit.library import EfficientSU2\n",
    "from qiskit_aer import AerSimulator\n",
    "import cupy as cp"
   ]
  },
  {
   "cell_type": "code",
   "execution_count": 4,
   "metadata": {},
   "outputs": [],
   "source": [
    "molecule = MoleculeInfo(\n",
    "        # Coordinates in Angstrom\n",
    "        symbols=[\"Li\", \"H\"],\n",
    "        coords=([0.0, 0.0, 0.0], [3.6895640, 0.0, 0.0]),\n",
    "        multiplicity=1,  # = 2*spin + 1\n",
    "        charge=0,\n",
    "    )"
   ]
  },
  {
   "cell_type": "code",
   "execution_count": 5,
   "metadata": {},
   "outputs": [
    {
     "name": "stdout",
     "output_type": "stream",
     "text": [
      "SparsePauliOp(['IIIIIIII', 'IIIIIIIZ', 'IIIIIIZZ', 'IIIIIIZI', 'IIIIXXXZ', 'IIIIXXXI', 'IIIIYXYI', 'IIIIYXYZ', 'IIIIIZZI', 'IIIIIZZZ', 'IIIIZZII', 'IIIIZZIZ', 'IIIIZIII', 'IIIIZIIZ', 'IIIZIIII', 'IIIZIIIZ', 'IIZXIIII', 'IIZXIIIZ', 'IIIXIIII', 'IIIXIIIZ', 'XXXXIIII', 'XXXXIIIZ', 'YXXYIIII', 'YXXYIIIZ', 'IIZZIIII', 'IIZZIIIZ', 'XXXZIIII', 'XXXZIIIZ', 'YXYIIIII', 'YXYIIIIZ', 'IZZIIIII', 'IZZIIIIZ', 'ZZIIIIII', 'ZZIIIIIZ', 'ZIIIIIII', 'ZIIIIIIZ', 'IIIIXXXX', 'IIIIXXYY', 'IIIIYXXY', 'IIIIYXYX', 'IIIIIIZX', 'IIIIIZIX', 'IIIIIIIX', 'IIIIIZZX', 'IIIIZZZX', 'IIIIZZIX', 'IIIIZIZX', 'IIIIZIIX', 'IIIZIIZX', 'IIIZIIIX', 'IIZXIIZX', 'IIIXIIZX', 'IIZXIIIX', 'IIIXIIIX', 'XXXXIIZX', 'YXXYIIZX', 'XXXXIIIX', 'YXXYIIIX', 'IIZZIIZX', 'IIZZIIIX', 'XXXZIIZX', 'YXYIIIZX', 'XXXZIIIX', 'YXYIIIIX', 'IZZIIIZX', 'IZZIIIIX', 'ZZIIIIZX', 'ZZIIIIIX', 'ZIIIIIZX', 'ZIIIIIIX', 'IIIIXYYX', 'IIIIYYYY', 'IZXXIZXX', 'IIYYIZXX', 'IZXXIIYY', 'IIYYIIYY', 'IZXZIZXX', 'IIXIIZXX', 'IZXZIIYY', 'IIXIIIYY', 'XXZIIZXX', 'YYIIIZXX', 'XXZIIIYY', 'YYIIIIYY', 'IIIIYYXX', 'IIIIXYXY', 'ZXXXZXXX', 'IYXYZXXX', 'ZXXXIYXY', 'IYXYIYXY', 'ZXXZZXXX', 'IYYIZXXX', 'ZXXZIYXY', 'IYYIIYXY', 'XZIIZXXX', 'XIIIZXXX', 'XZIIIYXY', 'XIIIIYXY', 'IIIZXXXX', 'IIIZYXXY', 'IIZXXXXX', 'IIIXXXXX', 'IIZXYXXY', 'IIIXYXXY', 'XXXXXXXX', 'YXXYXXXX', 'XXXXYXXY', 'YXXYYXXY', 'IIZZXXXX', 'IIZZYXXY', 'XXXZXXXX', 'YXYIXXXX', 'XXXZYXXY', 'YXYIYXXY', 'IZZIXXXX', 'IZZIYXXY', 'ZZIIXXXX', 'ZZIIYXXY', 'ZIIIXXXX', 'ZIIIYXXY', 'IIIIIZIZ', 'IIIIZZZZ', 'IIIIZIZZ', 'IIIZIIZZ', 'IIZXIIZZ', 'IIIXIIZZ', 'XXXXIIZZ', 'YXXYIIZZ', 'IIZZIIZZ', 'XXXZIIZZ', 'YXYIIIZZ', 'IZZIIIZZ', 'ZZIIIIZZ', 'ZIIIIIZZ', 'IIIIXYYZ', 'IIIIYYXI', 'IZXXIZXZ', 'IIYYIZXZ', 'IZXXIIXI', 'IIYYIIXI', 'IZXZIZXZ', 'IIXIIZXZ', 'IZXZIIXI', 'IIXIIIXI', 'XXZIIZXZ', 'YYIIIZXZ', 'XXZIIIXI', 'YYIIIIXI', 'IIIIYYXZ', 'IIIIXYYI', 'ZXXXZXXZ', 'IYXYZXXZ', 'ZXXXIYYI', 'IYXYIYYI', 'ZXXZZXXZ', 'IYYIZXXZ', 'ZXXZIYYI', 'IYYIIYYI', 'XZIIZXXZ', 'XIIIZXXZ', 'XZIIIYYI', 'XIIIIYYI', 'IIIZXXXZ', 'IIIZYXYI', 'IIZXXXXZ', 'IIIXXXXZ', 'IIZXYXYI', 'IIIXYXYI', 'XXXXXXXZ', 'YXXYXXXZ', 'XXXXYXYI', 'YXXYYXYI', 'IIZZXXXZ', 'IIZZYXYI', 'XXXZXXXZ', 'YXYIXXXZ', 'XXXZYXYI', 'YXYIYXYI', 'IZZIXXXZ', 'IZZIYXYI', 'ZZIIXXXZ', 'ZZIIYXYI', 'ZIIIXXXZ', 'ZIIIYXYI', 'IIIIZIZI', 'IIIIZZZI', 'IIIZIZZI', 'IIZXIZZI', 'IIIXIZZI', 'XXXXIZZI', 'YXXYIZZI', 'IIZZIZZI', 'XXXZIZZI', 'YXYIIZZI', 'IZZIIZZI', 'ZZIIIZZI', 'ZIIIIZZI', 'ZXZIZXZI', 'IXIIZXZI', 'ZXZIIXII', 'IXIIIXII', 'IZXXXXZI', 'IIYYXXZI', 'IZXXYYII', 'IIYYYYII', 'IZXZXXZI', 'IIXIXXZI', 'IZXZYYII', 'IIXIYYII', 'XXZIXXZI', 'YYIIXXZI', 'XXZIYYII', 'YYIIYYII', 'IIIIIZII', 'IIIZZZII', 'IIZXZZII', 'IIIXZZII', 'XXXXZZII', 'YXXYZZII', 'IIZZZZII', 'XXXZZZII', 'YXYIZZII', 'IZZIZZII', 'ZZIIZZII', 'ZIIIZZII', 'ZXXXXZII', 'IYXYXZII', 'ZXXXXIII', 'IYXYXIII', 'ZXXZXZII', 'IYYIXZII', 'ZXXZXIII', 'IYYIXIII', 'XZIIXZII', 'XIIIXZII', 'XZIIXIII', 'XIIIXIII', 'IIIZZIII', 'IIZXZIII', 'IIIXZIII', 'XXXXZIII', 'YXXYZIII', 'IIZZZIII', 'XXXZZIII', 'YXYIZIII', 'IZZIZIII', 'ZZIIZIII', 'ZIIIZIII', 'IIZIIIII', 'XXXIIIII', 'YXYZIIII', 'IZZZIIII', 'ZZIZIIII', 'ZIIZIIII', 'XXYYIIII', 'YXYXIIII', 'IZIXIIII', 'IZZXIIII', 'ZZZXIIII', 'ZZIXIIII', 'ZIZXIIII', 'ZIIXIIII', 'XYYXIIII', 'YYYYIIII', 'YYXXIIII', 'XYXYIIII', 'IZIZIIII', 'ZZZZIIII', 'ZIZZIIII', 'XYYZIIII', 'YYXIIIII', 'YYXZIIII', 'XYYIIIII', 'ZIZIIIII', 'ZZZIIIII', 'IZIIIIII'],\n",
      "              coeffs=[ 1.01388169e+00+0.j, -2.45778012e-01+0.j, -3.19369162e-01+0.j,\n",
      "  3.62101316e-02+0.j, -4.97872745e-02+0.j, -1.11052698e-03+0.j,\n",
      "  4.97872745e-02+0.j,  1.11052698e-03+0.j, -4.29822680e-01+0.j,\n",
      "  4.42845876e-02+0.j, -4.29822680e-01+0.j,  4.42845876e-02+0.j,\n",
      "  4.07683810e-01+0.j, -4.79906795e-02+0.j,  2.45778012e-01+0.j,\n",
      " -9.27812583e-02+0.j,  7.59052819e-02+0.j,  2.97473646e-02+0.j,\n",
      "  7.59052819e-02+0.j,  2.97473646e-02+0.j,  5.96472934e-02+0.j,\n",
      "  1.57074287e-02+0.j, -5.96472934e-02+0.j, -1.57074287e-02+0.j,\n",
      " -3.19369162e-01+0.j,  6.79214441e-02+0.j,  4.97872745e-02+0.j,\n",
      "  2.12860248e-02+0.j,  4.97872745e-02+0.j,  2.12860248e-02+0.j,\n",
      " -4.29822680e-01+0.j,  5.03820887e-02+0.j, -4.29822680e-01+0.j,\n",
      "  5.03820887e-02+0.j, -4.07683810e-01+0.j,  6.78229075e-02+0.j,\n",
      "  5.96472934e-02+0.j,  1.10577931e-02+0.j, -5.96472934e-02+0.j,\n",
      "  1.10577931e-02+0.j, -7.59052819e-02+0.j,  8.27333887e-03+0.j,\n",
      "  7.59052819e-02+0.j, -8.27333887e-03+0.j,  8.27333887e-03+0.j,\n",
      " -8.27333887e-03+0.j, -6.51320372e-03+0.j,  6.51320372e-03+0.j,\n",
      "  2.97473646e-02+0.j, -2.97473646e-02+0.j, -3.17113125e-02+0.j,\n",
      " -3.17113125e-02+0.j,  3.17113125e-02+0.j,  3.17113125e-02+0.j,\n",
      " -2.01754979e-02+0.j,  2.01754979e-02+0.j,  2.01754979e-02+0.j,\n",
      " -2.01754979e-02+0.j, -6.59907913e-03+0.j,  6.59907913e-03+0.j,\n",
      " -1.95896121e-02+0.j, -1.95896121e-02+0.j,  1.95896121e-02+0.j,\n",
      "  1.95896121e-02+0.j,  1.52490891e-02+0.j, -1.52490891e-02+0.j,\n",
      "  1.52490891e-02+0.j, -1.52490891e-02+0.j, -7.99947019e-04+0.j,\n",
      "  7.99947019e-04+0.j,  8.20948818e-03+0.j, -8.20948818e-03+0.j,\n",
      " -6.09750107e-03+0.j,  6.09750107e-03+0.j, -6.09750107e-03+0.j,\n",
      "  6.09750107e-03+0.j,  6.97575019e-03+0.j, -6.97575019e-03+0.j,\n",
      "  6.97575019e-03+0.j, -6.97575019e-03+0.j,  2.28875164e-03+0.j,\n",
      "  2.28875164e-03+0.j,  2.28875164e-03+0.j,  2.28875164e-03+0.j,\n",
      "  8.20948818e-03+0.j,  8.20948818e-03+0.j, -6.09750107e-03+0.j,\n",
      "  6.09750107e-03+0.j, -6.09750107e-03+0.j,  6.09750107e-03+0.j,\n",
      "  6.97575019e-03+0.j,  6.97575019e-03+0.j,  6.97575019e-03+0.j,\n",
      "  6.97575019e-03+0.j,  2.28875164e-03+0.j, -2.28875164e-03+0.j,\n",
      "  2.28875164e-03+0.j, -2.28875164e-03+0.j, -1.57074287e-02+0.j,\n",
      "  1.57074287e-02+0.j,  2.01754979e-02+0.j,  2.01754979e-02+0.j,\n",
      " -2.01754979e-02+0.j, -2.01754979e-02+0.j,  1.98322280e-02+0.j,\n",
      " -1.98322280e-02+0.j, -1.98322280e-02+0.j,  1.98322280e-02+0.j,\n",
      "  8.53181905e-03+0.j, -8.53181905e-03+0.j,  7.31315074e-03+0.j,\n",
      "  7.31315074e-03+0.j, -7.31315074e-03+0.j, -7.31315074e-03+0.j,\n",
      " -1.04982398e-02+0.j,  1.04982398e-02+0.j, -1.04982398e-02+0.j,\n",
      "  1.04982398e-02+0.j, -3.99952033e-03+0.j,  3.99952033e-03+0.j,\n",
      "  5.08733513e-02+0.j,  5.08733513e-02+0.j, -4.62631264e-02+0.j,\n",
      " -6.79214441e-02+0.j,  6.59907913e-03+0.j,  6.59907913e-03+0.j,\n",
      "  8.53181905e-03+0.j, -8.53181905e-03+0.j,  6.89483268e-02+0.j,\n",
      "  1.42940008e-04+0.j,  1.42940008e-04+0.j,  6.03630990e-02+0.j,\n",
      "  6.03630990e-02+0.j,  6.44950450e-02+0.j, -7.60167763e-03+0.j,\n",
      " -7.60167763e-03+0.j, -6.97575019e-03+0.j,  6.97575019e-03+0.j,\n",
      "  6.97575019e-03+0.j, -6.97575019e-03+0.j,  9.48974765e-03+0.j,\n",
      " -9.48974765e-03+0.j, -9.48974765e-03+0.j,  9.48974765e-03+0.j,\n",
      "  4.83475251e-04+0.j,  4.83475251e-04+0.j, -4.83475251e-04+0.j,\n",
      " -4.83475251e-04+0.j, -7.60167763e-03+0.j, -7.60167763e-03+0.j,\n",
      " -6.97575019e-03+0.j,  6.97575019e-03+0.j, -6.97575019e-03+0.j,\n",
      "  6.97575019e-03+0.j,  9.48974765e-03+0.j,  9.48974765e-03+0.j,\n",
      "  9.48974765e-03+0.j,  9.48974765e-03+0.j,  4.83475251e-04+0.j,\n",
      " -4.83475251e-04+0.j,  4.83475251e-04+0.j, -4.83475251e-04+0.j,\n",
      "  2.12860248e-02+0.j, -2.12860248e-02+0.j, -1.95896121e-02+0.j,\n",
      " -1.95896121e-02+0.j,  1.95896121e-02+0.j,  1.95896121e-02+0.j,\n",
      " -7.31315074e-03+0.j,  7.31315074e-03+0.j,  7.31315074e-03+0.j,\n",
      " -7.31315074e-03+0.j, -1.42940008e-04+0.j,  1.42940008e-04+0.j,\n",
      " -1.82319186e-02+0.j, -1.82319186e-02+0.j,  1.82319186e-02+0.j,\n",
      "  1.82319186e-02+0.j,  7.11820238e-03+0.j, -7.11820238e-03+0.j,\n",
      "  7.11820238e-03+0.j, -7.11820238e-03+0.j, -1.90445032e-03+0.j,\n",
      "  1.90445032e-03+0.j,  6.55845232e-02+0.j, -6.09679360e-02+0.j,\n",
      " -5.03820887e-02+0.j, -1.52490891e-02+0.j, -1.52490891e-02+0.j,\n",
      " -1.04982398e-02+0.j,  1.04982398e-02+0.j,  6.03630990e-02+0.j,\n",
      " -7.11820238e-03+0.j, -7.11820238e-03+0.j,  7.82363778e-02+0.j,\n",
      "  6.98018080e-02+0.j,  6.48965939e-02+0.j,  4.21728488e-03+0.j,\n",
      " -4.21728488e-03+0.j, -4.21728488e-03+0.j,  4.21728488e-03+0.j,\n",
      "  2.28875164e-03+0.j, -2.28875164e-03+0.j, -2.28875164e-03+0.j,\n",
      "  2.28875164e-03+0.j, -4.83475251e-04+0.j,  4.83475251e-04+0.j,\n",
      "  4.83475251e-04+0.j, -4.83475251e-04+0.j, -3.92865792e-03+0.j,\n",
      " -3.92865792e-03+0.j,  3.92865792e-03+0.j,  3.92865792e-03+0.j,\n",
      " -6.09679360e-02+0.j, -5.03820887e-02+0.j, -1.52490891e-02+0.j,\n",
      " -1.52490891e-02+0.j, -1.04982398e-02+0.j,  1.04982398e-02+0.j,\n",
      "  6.03630990e-02+0.j, -7.11820238e-03+0.j, -7.11820238e-03+0.j,\n",
      "  6.98018080e-02+0.j,  7.82363778e-02+0.j,  6.48965939e-02+0.j,\n",
      "  2.28875164e-03+0.j, -2.28875164e-03+0.j,  2.28875164e-03+0.j,\n",
      " -2.28875164e-03+0.j, -4.83475251e-04+0.j, -4.83475251e-04+0.j,\n",
      " -4.83475251e-04+0.j, -4.83475251e-04+0.j, -3.92865792e-03+0.j,\n",
      "  3.92865792e-03+0.j, -3.92865792e-03+0.j,  3.92865792e-03+0.j,\n",
      "  6.78229075e-02+0.j, -7.99947019e-04+0.j, -7.99947019e-04+0.j,\n",
      "  3.99952033e-03+0.j, -3.99952033e-03+0.j, -6.44950450e-02+0.j,\n",
      " -1.90445032e-03+0.j, -1.90445032e-03+0.j, -6.48965939e-02+0.j,\n",
      " -6.48965939e-02+0.j, -7.36186982e-02+0.j, -3.62101316e-02+0.j,\n",
      " -1.11052698e-03+0.j, -1.11052698e-03+0.j, -4.42845876e-02+0.j,\n",
      " -4.42845876e-02+0.j, -4.79906795e-02+0.j,  1.10577931e-02+0.j,\n",
      "  1.10577931e-02+0.j, -8.27333887e-03+0.j, -8.27333887e-03+0.j,\n",
      " -8.27333887e-03+0.j, -8.27333887e-03+0.j, -6.51320372e-03+0.j,\n",
      " -6.51320372e-03+0.j,  8.20948818e-03+0.j, -8.20948818e-03+0.j,\n",
      "  8.20948818e-03+0.j,  8.20948818e-03+0.j,  5.08733513e-02+0.j,\n",
      "  5.08733513e-02+0.j,  4.62631264e-02+0.j,  7.60167763e-03+0.j,\n",
      " -7.60167763e-03+0.j,  7.60167763e-03+0.j, -7.60167763e-03+0.j,\n",
      "  6.55845232e-02+0.j,  6.09679360e-02+0.j,  6.09679360e-02+0.j])\n"
     ]
    }
   ],
   "source": [
    "driver = PySCFDriver.from_molecule(molecule)\n",
    "properties = driver.run()\n",
    "\n",
    "problem = FreezeCoreTransformer(\n",
    "    freeze_core=True, remove_orbitals=[-3, -2]\n",
    ").transform(properties)\n",
    "\n",
    "num_particles = problem.num_particles\n",
    "num_spatial_orbitals = problem.num_spatial_orbitals\n",
    "\n",
    "mapper = ParityMapper(num_particles=num_particles)\n",
    "qubit_op = mapper.map(problem.second_q_ops()[0])\n",
    "\n",
    "print(qubit_op)\n",
    "\n"
   ]
  },
  {
   "cell_type": "code",
   "execution_count": 6,
   "metadata": {},
   "outputs": [
    {
     "name": "stdout",
     "output_type": "stream",
     "text": [
      "     »\n",
      "q_0: »\n",
      "     »\n",
      "q_1: »\n",
      "     »\n",
      "q_2: »\n",
      "     »\n",
      "q_3: »\n",
      "     »\n",
      "q_4: »\n",
      "     »\n",
      "q_5: »\n",
      "     »\n",
      "q_6: »\n",
      "     »\n",
      "q_7: »\n",
      "     »\n",
      "«     ┌────────────────────────────────────────────────────────────────────────────────────────────────────────────────────────────────────────────────────┐\n",
      "«q_0: ┤0                                                                                                                                                   ├\n",
      "«     │                                                                                                                                                    │\n",
      "«q_1: ┤1                                                                                                                                                   ├\n",
      "«     │                                                                                                                                                    │\n",
      "«q_2: ┤2                                                                                                                                                   ├\n",
      "«     │                                                                                                                                                    │\n",
      "«q_3: ┤3                                                                                                                                                   ├\n",
      "«     │  EvolvedOps(t[0],t[1],t[2],t[3],t[4],t[5],t[6],t[7],t[8],t[9],t[10],t[11],t[12],t[13],t[14],t[15],t[16],t[17],t[18],t[19],t[20],t[21],t[22],t[23]) │\n",
      "«q_4: ┤4                                                                                                                                                   ├\n",
      "«     │                                                                                                                                                    │\n",
      "«q_5: ┤5                                                                                                                                                   ├\n",
      "«     │                                                                                                                                                    │\n",
      "«q_6: ┤6                                                                                                                                                   ├\n",
      "«     │                                                                                                                                                    │\n",
      "«q_7: ┤7                                                                                                                                                   ├\n",
      "«     └────────────────────────────────────────────────────────────────────────────────────────────────────────────────────────────────────────────────────┘\n"
     ]
    }
   ],
   "source": [
    "init_state = HartreeFock( num_spatial_orbitals, num_particles, mapper)\n",
    "var_form = UCCSD( num_spatial_orbitals, num_particles, mapper, initial_state=init_state)\n",
    "# var_form = EfficientSU2(num_qubits=qubit_op.num_qubits, entanglement='linear' , initial_state=init_state)\n",
    "print(var_form)"
   ]
  },
  {
   "cell_type": "code",
   "execution_count": 7,
   "metadata": {},
   "outputs": [],
   "source": [
    "\n",
    "optimizer = SLSQP(maxiter=30)\n",
    "aer_estimator = Estimator(approximation=True)\n"
   ]
  },
  {
   "cell_type": "code",
   "execution_count": 8,
   "metadata": {},
   "outputs": [
    {
     "name": "stdout",
     "output_type": "stream",
     "text": [
      " exact energy  -7.785815867331454\n"
     ]
    }
   ],
   "source": [
    "def exact_result(qubit_op, problem):\n",
    "\n",
    "    sol = NumPyMinimumEigensolver().compute_minimum_eigenvalue(qubit_op)\n",
    "    result = problem.interpret(sol)\n",
    "    return result\n",
    "\n",
    "result = exact_result(qubit_op, problem)\n",
    "print(\" exact energy \" , result.total_energies[0].real)"
   ]
  },
  {
   "cell_type": "code",
   "execution_count": 9,
   "metadata": {},
   "outputs": [
    {
     "name": "stdout",
     "output_type": "stream",
     "text": [
      " exact energy  -7.785815867331451\n"
     ]
    }
   ],
   "source": [
    "def exact_result(qubit_op, problem):\n",
    "    \n",
    "    matrix = qubit_op.to_matrix()\n",
    "    cp_matrix = cp.array(matrix)\n",
    "\n",
    "    eigenvalues, eigenvectors = cp.linalg.eigh(cp_matrix)\n",
    "    min_index = cp.argmin(eigenvalues.real)\n",
    "    min_eigenvalue = eigenvalues[min_index].real\n",
    "    min_eigenvector = eigenvectors[:, min_index]\n",
    "\n",
    "    min_eigenvalue = cp.asnumpy(min_eigenvalue)\n",
    "    min_eigenvector = cp.asnumpy(min_eigenvector)\n",
    "\n",
    "    result = MinimumEigensolverResult()\n",
    "    result.eigenvalue = min_eigenvalue\n",
    "    result.eigenstate = min_eigenvector\n",
    "\n",
    "    interpreted_result = problem.interpret(result)\n",
    "    return interpreted_result\n",
    "\n",
    "\n",
    "\n",
    "result = exact_result(qubit_op, problem)\n",
    "print(\" exact energy \" , result.total_energies[0].real)"
   ]
  },
  {
   "cell_type": "code",
   "execution_count": 10,
   "metadata": {},
   "outputs": [
    {
     "name": "stdout",
     "output_type": "stream",
     "text": [
      "-0.7938994953962971\n",
      "=== GROUND STATE ENERGY ===\n",
      " \n",
      "* Electronic ground state energy (Hartree): -8.216092\n",
      "  - computed part:      -0.793899\n",
      "  - FreezeCoreTransformer extracted energy part: -7.422192\n",
      "~ Nuclear repulsion energy (Hartree): 0.430276\n",
      "> Total ground state energy (Hartree): -7.785816\n",
      " \n",
      "=== MEASURED OBSERVABLES ===\n",
      " \n",
      "  0:  # Particles: 2.000 S: 0.000 S^2: 0.000 M: -0.000\n",
      " \n",
      "=== DIPOLE MOMENTS ===\n",
      " \n",
      "~ Nuclear dipole moment (a.u.): [6.972265  0.0  0.0]\n",
      " \n",
      "  0: \n",
      "  * Electronic dipole moment (a.u.): [7.171604  0.000001  -0.000001]\n",
      "    - computed part:      [7.174043  0.000001  -0.000001]\n",
      "    - FreezeCoreTransformer extracted energy part: [-0.002439  0.0  0.0]\n",
      "  > Dipole moment (a.u.): [-0.199338  -0.000001  0.000001]  Total: 0.199338\n",
      "                 (debye): [-0.506668  -0.000002  0.000002]  Total: 0.506668\n",
      " \n"
     ]
    }
   ],
   "source": [
    "vqe = VQE(aer_estimator, var_form, optimizer)\n",
    "vqe.initial_point = [0] * var_form.num_parameters\n",
    "from qiskit_nature.second_q.algorithms import GroundStateEigensolver\n",
    "\n",
    "algorithm = GroundStateEigensolver(mapper, vqe)\n",
    "\n",
    "electronic_structure_result = algorithm.solve(problem)\n",
    "electronic_structure_result.formatting_precision = 6\n",
    "print(electronic_structure_result.groundenergy)\n",
    "print(electronic_structure_result)"
   ]
  },
  {
   "cell_type": "code",
   "execution_count": 11,
   "metadata": {},
   "outputs": [
    {
     "name": "stdout",
     "output_type": "stream",
     "text": [
      "-7.785815720595295\n"
     ]
    }
   ],
   "source": [
    "vqe =  VQE(aer_estimator , var_form , optimizer,initial_point=[0] * var_form.num_parameters)\n",
    "\n",
    "vqe_calc = vqe.compute_minimum_eigenvalue(qubit_op)\n",
    "vqe_result = problem.interpret(vqe_calc).total_energies[0].real\n",
    "print(vqe_result)"
   ]
  }
 ],
 "metadata": {
  "kernelspec": {
   "display_name": "qiskit1.1",
   "language": "python",
   "name": "python3"
  },
  "language_info": {
   "codemirror_mode": {
    "name": "ipython",
    "version": 3
   },
   "file_extension": ".py",
   "mimetype": "text/x-python",
   "name": "python",
   "nbconvert_exporter": "python",
   "pygments_lexer": "ipython3",
   "version": "3.9.18"
  }
 },
 "nbformat": 4,
 "nbformat_minor": 2
}
