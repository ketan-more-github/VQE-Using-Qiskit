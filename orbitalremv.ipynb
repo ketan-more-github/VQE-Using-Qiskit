{
 "cells": [
  {
   "cell_type": "code",
   "execution_count": 4,
   "id": "013c3d8d-ebd8-4686-a858-a308c7a3d345",
   "metadata": {},
   "outputs": [],
   "source": [
    "from qiskit_algorithms import MinimumEigensolverResult\n",
    "from qiskit_algorithms.minimum_eigensolvers import NumPyMinimumEigensolver, VQE\n",
    "from qiskit_nature.second_q.transformers import FreezeCoreTransformer\n",
    "from qiskit_nature.second_q.formats.molecule_info import MoleculeInfo\n",
    "from qiskit_nature.second_q.mappers import ParityMapper\n",
    "from qiskit_nature.second_q.circuit.library import UCCSD, HartreeFock\n",
    "from qiskit_nature.second_q.drivers import PySCFDriver\n",
    "from qiskit.circuit.library import EfficientSU2\n",
    "import numpy as np\n",
    "from qiskit_algorithms.optimizers import SLSQP , SPSA , ADAM\n",
    "from qiskit_aer.primitives import Estimator\n",
    "#qiskit_nature.settings.use_pauli_sum_op = False \n",
    "from qiskit_aer import Aer\n",
    "from pyinstrument import Profiler\n",
    "import threading\n",
    "from qiskit_aer.primitives import Estimator as AerEstimator\n",
    "import math\n",
    "from qiskit.circuit.library import EfficientSU2\n",
    "from qiskit_aer import AerSimulator\n",
    "import cupy as cp\n",
    "from qiskit_nature.second_q.algorithms import GroundStateEigensolver"
   ]
  },
  {
   "cell_type": "code",
   "execution_count": 3,
   "id": "3dea455e-bff6-4da0-a8ac-aac3a017e83c",
   "metadata": {},
   "outputs": [
    {
     "name": "stdout",
     "output_type": "stream",
     "text": [
      "Molecular Orbital Energies (in Hartree):\n",
      "Orbital 0: -2.346836 Hartree\n",
      "Orbital 1: -0.293561 Hartree\n",
      "Orbital 2: 0.078992 Hartree\n",
      "Orbital 3: 0.163750 Hartree\n",
      "Orbital 4: 0.163750 Hartree\n",
      "Orbital 5: 0.574297 Hartree\n"
     ]
    }
   ],
   "source": [
    "\n",
    "\n",
    "def get_orbital_energies_lih(dist):\n",
    "    # Define LiH molecule\n",
    "    molecule = MoleculeInfo(\n",
    "        symbols=[\"Li\", \"H\"],\n",
    "        coords=([0.0, 0.0, 0.0], [dist, 0.0, 0.0]),\n",
    "        multiplicity=1,  # Singlet state (2 * spin + 1)\n",
    "        charge=0,\n",
    "    )\n",
    "\n",
    "    driver = PySCFDriver.from_molecule(molecule)\n",
    "\n",
    "    # Run PySCFDriver to get molecular properties\n",
    "    properties = driver.run()\n",
    "\n",
    "    # Extract molecular orbital energies\n",
    "    mo_energies = properties.orbital_energies\n",
    "\n",
    "    # Print molecular orbital energies\n",
    "    print(\"Molecular Orbital Energies (in Hartree):\")\n",
    "    for i, energy in enumerate(mo_energies):\n",
    "        print(f\"Orbital {i}: {energy:.6f} Hartree\")\n",
    "\n",
    "    return mo_energies\n",
    "\n",
    "# Example usage: set the distance between Li and H atoms to 1.5 Angstrom\n",
    "orbital_energies = get_orbital_energies_lih(dist=1.5)\n"
   ]
  },
  {
   "cell_type": "code",
   "execution_count": 4,
   "id": "a08c0530-5707-45f3-8748-5fa559500a61",
   "metadata": {},
   "outputs": [
    {
     "name": "stdout",
     "output_type": "stream",
     "text": [
      "Molecular Orbital Energies (in Hartree):\n",
      "Orbital 0: -4.529254 Hartree\n",
      "Orbital 1: -0.427183 Hartree\n",
      "Orbital 2: -0.296499 Hartree\n",
      "Orbital 3: 0.108384 Hartree\n",
      "Orbital 4: 0.216856 Hartree\n",
      "Orbital 5: 0.496866 Hartree\n",
      "Orbital 6: 0.714817 Hartree\n"
     ]
    }
   ],
   "source": [
    "\n",
    "def get_orbital_energies_lih(dist):\n",
    "    # Define LiH molecule\n",
    "    molecule = MoleculeInfo(\n",
    "    symbols=[\"Be\", \"H\" , \"H\" ],\n",
    "    coords=([0.0, 0.0, 0.0], [dist, 0.0, 0.0] ,[0.0, 0.0 , -dist] ),\n",
    "    multiplicity=1,  # = 2*spin + 1\n",
    "    charge=0,\n",
    "  )\n",
    "    driver = PySCFDriver.from_molecule(molecule)\n",
    "\n",
    "    # Run PySCFDriver to get molecular properties\n",
    "    properties = driver.run()\n",
    "\n",
    "    # Extract molecular orbital energies\n",
    "    mo_energies = properties.orbital_energies\n",
    "\n",
    "    # Print molecular orbital energies\n",
    "    print(\"Molecular Orbital Energies (in Hartree):\")\n",
    "    for i, energy in enumerate(mo_energies):\n",
    "        print(f\"Orbital {i}: {energy:.6f} Hartree\")\n",
    "\n",
    "    return mo_energies\n",
    "\n",
    "# Example usage: set the distance between Li and H atoms to 1.5 Angstrom\n",
    "orbital_energies = get_orbital_energies_lih(dist=1.5)\n"
   ]
  },
  {
   "cell_type": "code",
   "execution_count": 5,
   "id": "4a5a2458-1525-44af-b79d-975a43dd31c1",
   "metadata": {},
   "outputs": [
    {
     "name": "stdout",
     "output_type": "stream",
     "text": [
      "Molecular Orbital Energies (in Hartree):\n",
      "Orbital 0: -20.241762 Hartree\n",
      "Orbital 1: -1.268360 Hartree\n",
      "Orbital 2: -0.617863 Hartree\n",
      "Orbital 3: -0.452999 Hartree\n",
      "Orbital 4: -0.391242 Hartree\n",
      "Orbital 5: 0.605576 Hartree\n",
      "Orbital 6: 0.742245 Hartree\n"
     ]
    }
   ],
   "source": [
    "\n",
    "def get_orbital_energies_lih():\n",
    "    # Define LiH molecule\n",
    "    molecule = MoleculeInfo(\n",
    "    # Coordinates in Angstrom\n",
    "    symbols=[\"O\", \"H\" , \"H\"],\n",
    "    coords=([0.0, 0.0, 0.0], [0.757, 0.586, 0.0] ,[-0.757, 0.586 , 0.0]), \n",
    "    multiplicity=1,  # = 2*spin + 1\n",
    "    charge=0)\n",
    "    \n",
    "    driver = PySCFDriver.from_molecule(molecule)\n",
    "\n",
    "    # Run PySCFDriver to get molecular properties\n",
    "    properties = driver.run()\n",
    "\n",
    "    # Extract molecular orbital energies\n",
    "    mo_energies = properties.orbital_energies\n",
    "\n",
    "    # Print molecular orbital energies\n",
    "    print(\"Molecular Orbital Energies (in Hartree):\")\n",
    "    for i, energy in enumerate(mo_energies):\n",
    "        print(f\"Orbital {i}: {energy:.6f} Hartree\")\n",
    "\n",
    "    return mo_energies\n",
    "\n",
    "# Example usage: set the distance between Li and H atoms to 1.5 Angstrom\n",
    "orbital_energies = get_orbital_energies_lih()\n"
   ]
  },
  {
   "cell_type": "code",
   "execution_count": null,
   "id": "2d5364da-2754-4b27-836d-cbdaa90ffa15",
   "metadata": {},
   "outputs": [],
   "source": []
  }
 ],
 "metadata": {
  "kernelspec": {
   "display_name": "Python 3 (VQE)",
   "language": "python",
   "name": "python3-vqe"
  },
  "language_info": {
   "codemirror_mode": {
    "name": "ipython",
    "version": 3
   },
   "file_extension": ".py",
   "mimetype": "text/x-python",
   "name": "python",
   "nbconvert_exporter": "python",
   "pygments_lexer": "ipython3",
   "version": "3.9.13"
  }
 },
 "nbformat": 4,
 "nbformat_minor": 5
}
